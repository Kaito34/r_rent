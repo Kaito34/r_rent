{
 "metadata": {
  "language_info": {
   "codemirror_mode": {
    "name": "ipython",
    "version": 3
   },
   "file_extension": ".py",
   "mimetype": "text/x-python",
   "name": "python",
   "nbconvert_exporter": "python",
   "pygments_lexer": "ipython3",
   "version": "3.8.5"
  },
  "orig_nbformat": 2,
  "kernelspec": {
   "name": "python385jvsc74a57bd0289cee7abb054b4fa6a9c777fa589be0541acc5b22a16ca4d751d5d5c7930834",
   "display_name": "Python 3.8.5 64-bit ('r_rent-I9A0z1Rk': pipenv)"
  }
 },
 "nbformat": 4,
 "nbformat_minor": 2,
 "cells": [
  {
   "cell_type": "code",
   "execution_count": 171,
   "metadata": {},
   "outputs": [],
   "source": [
    "from bs4 import BeautifulSoup\n",
    "import requests\n",
    "import lxml\n",
    "import pandas as pd"
   ]
  },
  {
   "cell_type": "code",
   "execution_count": 160,
   "metadata": {},
   "outputs": [],
   "source": [
    "# 神奈川全域 新着順\n",
    "url = \"https://suumo.jp/jj/chintai/ichiran/FR301FC001/?ar=030&bs=040&ta=14&sc=14101&sc=14102&sc=14103&sc=14104&sc=14105&sc=14106&sc=14107&sc=14108&sc=14109&sc=14110&sc=14111&sc=14112&sc=14113&sc=14114&sc=14115&sc=14116&sc=14117&sc=14118&sc=14131&sc=14132&sc=14133&sc=14134&sc=14135&sc=14136&sc=14137&sc=14151&sc=14152&sc=14153&sc=14201&sc=14203&sc=14204&sc=14205&sc=14206&sc=14207&sc=14208&sc=14210&sc=14211&sc=14212&sc=14213&sc=14214&sc=14215&sc=14216&sc=14217&sc=14218&sc=14300&sc=14320&sc=14340&sc=14360&sc=14400&sc=14380&cb=0.0&ct=9999999&mb=0&mt=9999999&et=9999999&cn=9999999&shkr1=03&shkr2=03&shkr3=03&shkr4=03&sngz=&po1=09&page=2\"\n",
    "\n",
    "# &page=2"
   ]
  },
  {
   "cell_type": "code",
   "execution_count": 161,
   "metadata": {},
   "outputs": [],
   "source": [
    "r = requests.get(url)"
   ]
  },
  {
   "cell_type": "code",
   "execution_count": 162,
   "metadata": {},
   "outputs": [
    {
     "output_type": "execute_result",
     "data": {
      "text/plain": [
       "<Response [200]>"
      ]
     },
     "metadata": {},
     "execution_count": 162
    }
   ],
   "source": [
    "r"
   ]
  },
  {
   "cell_type": "code",
   "execution_count": 163,
   "metadata": {},
   "outputs": [],
   "source": [
    "soup = BeautifulSoup(r.text, 'lxml')"
   ]
  },
  {
   "cell_type": "code",
   "execution_count": 168,
   "metadata": {},
   "outputs": [],
   "source": [
    "df_ = pd.DataFrame([url, soup], index=['url','soup'])"
   ]
  },
  {
   "cell_type": "code",
   "execution_count": 169,
   "metadata": {},
   "outputs": [
    {
     "output_type": "execute_result",
     "data": {
      "text/plain": [
       "                                                      0\n",
       "url   https://suumo.jp/jj/chintai/ichiran/FR301FC001...\n",
       "soup  [html, [if lt IE 7]><html lang=\"ja\" class=\"ie\"..."
      ],
      "text/html": "<div>\n<style scoped>\n    .dataframe tbody tr th:only-of-type {\n        vertical-align: middle;\n    }\n\n    .dataframe tbody tr th {\n        vertical-align: top;\n    }\n\n    .dataframe thead th {\n        text-align: right;\n    }\n</style>\n<table border=\"1\" class=\"dataframe\">\n  <thead>\n    <tr style=\"text-align: right;\">\n      <th></th>\n      <th>0</th>\n    </tr>\n  </thead>\n  <tbody>\n    <tr>\n      <th>url</th>\n      <td>https://suumo.jp/jj/chintai/ichiran/FR301FC001...</td>\n    </tr>\n    <tr>\n      <th>soup</th>\n      <td>[html, [if lt IE 7]&gt;&lt;html lang=\"ja\" class=\"ie\"...</td>\n    </tr>\n  </tbody>\n</table>\n</div>"
     },
     "metadata": {},
     "execution_count": 169
    }
   ],
   "source": [
    "df_"
   ]
  },
  {
   "cell_type": "code",
   "execution_count": 39,
   "metadata": {},
   "outputs": [],
   "source": [
    "properties = soup.find_all('div', class_='cassetteitem')"
   ]
  },
  {
   "cell_type": "code",
   "execution_count": 40,
   "metadata": {},
   "outputs": [
    {
     "output_type": "execute_result",
     "data": {
      "text/plain": [
       "30"
      ]
     },
     "metadata": {},
     "execution_count": 40
    }
   ],
   "source": [
    "len(properties)"
   ]
  },
  {
   "cell_type": "code",
   "execution_count": 41,
   "metadata": {},
   "outputs": [
    {
     "output_type": "execute_result",
     "data": {
      "text/plain": [
       "9"
      ]
     },
     "metadata": {},
     "execution_count": 41
    }
   ],
   "source": [
    "len(\n",
    "    properties[0].find_all(class_='cassetteitem_other')[0].find_all('tbody')[0].find_all('td')\n",
    ")"
   ]
  },
  {
   "cell_type": "code",
   "execution_count": 42,
   "metadata": {},
   "outputs": [
    {
     "output_type": "execute_result",
     "data": {
      "text/plain": [
       "<td>\n",
       "\t\t\t\t\t\t\t\t\t\t\t4階</td>"
      ]
     },
     "metadata": {},
     "execution_count": 42
    }
   ],
   "source": [
    "properties[0].find_all(class_='cassetteitem_other')[0].find_all('tbody')[0].find_all('td')[2]"
   ]
  },
  {
   "source": [
    "### 項目の確認作業"
   ],
   "cell_type": "markdown",
   "metadata": {}
  },
  {
   "cell_type": "code",
   "execution_count": 66,
   "metadata": {},
   "outputs": [],
   "source": [
    "# 一件目\n",
    "each_property = properties[0]\n",
    "# 複数案内がある場合はそれぞれに対して項目を抽出する\n",
    "proposes = each_property.find_all(class_='cassetteitem_other')[0]\n",
    "# ある一つの案内について\n",
    "each_propose = proposes.find_all('tbody')[0]\n",
    "# 物件情報\n",
    "infos = each_propose.find_all('td')"
   ]
  },
  {
   "cell_type": "code",
   "execution_count": 67,
   "metadata": {},
   "outputs": [
    {
     "output_type": "execute_result",
     "data": {
      "text/plain": [
       "<td>\n",
       "\t\t\t\t\t\t\t\t\t\t\t4階</td>"
      ]
     },
     "metadata": {},
     "execution_count": 67
    }
   ],
   "source": [
    "infos[2]"
   ]
  },
  {
   "cell_type": "code",
   "execution_count": 170,
   "metadata": {},
   "outputs": [
    {
     "output_type": "execute_result",
     "data": {
      "text/plain": [
       "<td class=\"ui-text--midium ui-text--bold\">\n",
       "<a class=\"js-cassette_link_href cassetteitem_other-linktext\" href=\"/chintai/jnc_000065126802/?bc=100232693941\" onclick=\"sendBeaconSiteCatalystClick(event,this,'click_casset_bkn_link',false);\" target=\"_blank\">詳細を見る</a></td>"
      ]
     },
     "metadata": {},
     "execution_count": 170
    }
   ],
   "source": [
    "floor = infos[2].text.split('\\r\\n\\t\\t\\t\\t\\t\\t\\t\\t\\t\\t\\t')[1]\n",
    "rent_fee = infos[3].find_all(class_='cassetteitem_price--rent')[0].text\n",
    "manegement_fee = infos[3].find_all(class_='cassetteitem_price--administration')[0].text\n",
    "deposit = infos[4].find_all(class_='cassetteitem_price--deposit')[0].text\n",
    "gratuity = infos[4].find_all(class_='cassetteitem_price--gratuity')[0].text\n",
    "layout = infos[5].find_all(class_='cassetteitem_madori')[0].text\n",
    "exclusive_area = infos[5].find_all(class_='cassetteitem_menseki')[0].text\n",
    "detail_link = infos[8].a['href']"
   ]
  },
  {
   "cell_type": "code",
   "execution_count": 69,
   "metadata": {},
   "outputs": [],
   "source": [
    "# 賃貸情報\n",
    "name = each_property.find_all(class_='cassetteitem_content-title')[0].text\n",
    "address = each_property.find_all(class_='cassetteitem_detail-col1')[0].text\n",
    "near_station = each_property.find_all(class_='cassetteitem_detail-text')[0].text # 自然言語処理で最寄り駅などの割り出し\n",
    "built_info = each_property.find_all(class_='cassetteitem_detail-col3')[0].text\n",
    "built_year = built_info.split('\\n')[1]\n",
    "built_floors = built_info.split('\\n')[2]"
   ]
  },
  {
   "cell_type": "code",
   "execution_count": 47,
   "metadata": {},
   "outputs": [],
   "source": [
    "info_lists = []\n",
    "for each_property in properties:\n",
    "    # 賃貸情報\n",
    "    name = each_property.find_all(class_='cassetteitem_content-title')[0].text\n",
    "    address = each_property.find_all(class_='cassetteitem_detail-col1')[0].text\n",
    "    near_station = each_property.find_all(class_='cassetteitem_detail-text')[0].text # 自然言語処理で最寄り駅などの割り出し\n",
    "    built_info = each_property.find_all(class_='cassetteitem_detail-col3')[0].text\n",
    "    built_year = built_info.split('\\n')[1]\n",
    "    built_floors = built_info.split('\\n')[2]\n",
    "\n",
    "    # 複数案内がある場合はそれぞれに対して項目を抽出する\n",
    "    proposes = each_property.find_all(class_='cassetteitem_other')[0]\n",
    "    # ある一つの案内について\n",
    "    for each_propose in proposes.find_all('tbody'):\n",
    "        # 物件情報\n",
    "        infos = each_propose.find_all('td')\n",
    "        floor = infos[2].text.split('\\r\\n\\t\\t\\t\\t\\t\\t\\t\\t\\t\\t\\t')[1]\n",
    "        rent_fee = infos[3].find_all(class_='cassetteitem_price--rent')[0].text\n",
    "        manegement_fee = infos[3].find_all(class_='cassetteitem_price--administration')[0].text\n",
    "        deposit = infos[4].find_all(class_='cassetteitem_price--deposit')[0].text\n",
    "        gratuity = infos[4].find_all(class_='cassetteitem_price--gratuity')[0].text\n",
    "        layout = infos[5].find_all(class_='cassetteitem_madori')[0].text\n",
    "        exclusive_area = infos[5].find_all(class_='cassetteitem_menseki')[0].text\n",
    "        detail_link = infos[8].a['href']\n",
    "\n",
    "\n",
    "        info_list = [name, address, near_station, built_year, built_floors, floor, rent_fee, manegement_fee, deposit, gratuity, layout, exclusive_area, detail_link]\n",
    "        info_lists.append(info_list)   \n"
   ]
  },
  {
   "cell_type": "code",
   "execution_count": 48,
   "metadata": {},
   "outputs": [
    {
     "output_type": "execute_result",
     "data": {
      "text/plain": [
       "86"
      ]
     },
     "metadata": {},
     "execution_count": 48
    }
   ],
   "source": [
    "len(info_lists)"
   ]
  },
  {
   "cell_type": "code",
   "execution_count": 50,
   "metadata": {},
   "outputs": [],
   "source": [
    "df_rent = pd.DataFrame(info_lists, columns=['name', 'address', 'near_station', 'built_year', 'built_floors', 'floor', 'rent_fee', 'manegement_fee', 'deposit', 'gratuity', 'layout', 'exclusive_area', 'detail_link'])"
   ]
  },
  {
   "cell_type": "code",
   "execution_count": 51,
   "metadata": {},
   "outputs": [
    {
     "output_type": "execute_result",
     "data": {
      "text/plain": [
       "               name      address                     near_station built_year  \\\n",
       "0          リモード本厚木Ｂ    神奈川県厚木市温水  小田急小田原線/本厚木駅 バス10分 (バス停)黄金原 歩7分       築34年   \n",
       "1          リモード本厚木Ｂ    神奈川県厚木市温水  小田急小田原線/本厚木駅 バス10分 (バス停)黄金原 歩7分       築34年   \n",
       "2          コーポコジマA棟    神奈川県厚木市飯山  小田急小田原線/本厚木駅 バス12分 (バス停)台ノ上 歩3分       築40年   \n",
       "3          コーポコジマA棟    神奈川県厚木市飯山  小田急小田原線/本厚木駅 バス12分 (バス停)台ノ上 歩3分       築40年   \n",
       "4          コーポコジマA棟    神奈川県厚木市飯山  小田急小田原線/本厚木駅 バス12分 (バス停)台ノ上 歩3分       築40年   \n",
       "..              ...          ...                              ...        ...   \n",
       "81  LIVE　COURT東海大学前  神奈川県秦野市鶴巻南１               小田急小田原線/東海大学前駅 歩6分       築19年   \n",
       "82  LIVE　COURT東海大学前  神奈川県秦野市鶴巻南１               小田急小田原線/東海大学前駅 歩6分       築19年   \n",
       "83  LIVE　COURT東海大学前  神奈川県秦野市鶴巻南１               小田急小田原線/東海大学前駅 歩6分       築19年   \n",
       "84  LIVE　COURT東海大学前  神奈川県秦野市鶴巻南１               小田急小田原線/東海大学前駅 歩6分       築19年   \n",
       "85  LIVE　COURT東海大学前  神奈川県秦野市鶴巻南１               小田急小田原線/東海大学前駅 歩6分       築19年   \n",
       "\n",
       "   built_floors floor rent_fee manegement_fee deposit gratuity layout  \\\n",
       "0           2階建    1階      2万円          3000円       -        -     1K   \n",
       "1           2階建    1階      2万円          5000円       -        -     1K   \n",
       "2           2階建    2階    1.9万円          5000円       -        -     1K   \n",
       "3           2階建    2階    1.9万円          5000円       -        -     1K   \n",
       "4           2階建    2階    1.9万円          5000円       -        -     1K   \n",
       "..          ...   ...      ...            ...     ...      ...    ...   \n",
       "81          3階建    3階    3.6万円          2000円       -        -  ワンルーム   \n",
       "82          3階建    2階      4万円          2000円       -        -     1K   \n",
       "83          3階建    2階    3.4万円          2000円       -        -  ワンルーム   \n",
       "84          3階建    2階    3.6万円          2000円       -        -  ワンルーム   \n",
       "85          3階建    2階    4.1万円          2000円       -        -  ワンルーム   \n",
       "\n",
       "   exclusive_area  \n",
       "0          13.7m2  \n",
       "1         12.13m2  \n",
       "2          25.2m2  \n",
       "3          25.2m2  \n",
       "4          25.2m2  \n",
       "..            ...  \n",
       "81        18.66m2  \n",
       "82        20.01m2  \n",
       "83        18.66m2  \n",
       "84        18.66m2  \n",
       "85        20.48m2  \n",
       "\n",
       "[159 rows x 12 columns]"
      ],
      "text/html": "<div>\n<style scoped>\n    .dataframe tbody tr th:only-of-type {\n        vertical-align: middle;\n    }\n\n    .dataframe tbody tr th {\n        vertical-align: top;\n    }\n\n    .dataframe thead th {\n        text-align: right;\n    }\n</style>\n<table border=\"1\" class=\"dataframe\">\n  <thead>\n    <tr style=\"text-align: right;\">\n      <th></th>\n      <th>name</th>\n      <th>address</th>\n      <th>near_station</th>\n      <th>built_year</th>\n      <th>built_floors</th>\n      <th>floor</th>\n      <th>rent_fee</th>\n      <th>manegement_fee</th>\n      <th>deposit</th>\n      <th>gratuity</th>\n      <th>layout</th>\n      <th>exclusive_area</th>\n    </tr>\n  </thead>\n  <tbody>\n    <tr>\n      <th>0</th>\n      <td>リモード本厚木Ｂ</td>\n      <td>神奈川県厚木市温水</td>\n      <td>小田急小田原線/本厚木駅 バス10分 (バス停)黄金原 歩7分</td>\n      <td>築34年</td>\n      <td>2階建</td>\n      <td>1階</td>\n      <td>2万円</td>\n      <td>3000円</td>\n      <td>-</td>\n      <td>-</td>\n      <td>1K</td>\n      <td>13.7m2</td>\n    </tr>\n    <tr>\n      <th>1</th>\n      <td>リモード本厚木Ｂ</td>\n      <td>神奈川県厚木市温水</td>\n      <td>小田急小田原線/本厚木駅 バス10分 (バス停)黄金原 歩7分</td>\n      <td>築34年</td>\n      <td>2階建</td>\n      <td>1階</td>\n      <td>2万円</td>\n      <td>5000円</td>\n      <td>-</td>\n      <td>-</td>\n      <td>1K</td>\n      <td>12.13m2</td>\n    </tr>\n    <tr>\n      <th>2</th>\n      <td>コーポコジマA棟</td>\n      <td>神奈川県厚木市飯山</td>\n      <td>小田急小田原線/本厚木駅 バス12分 (バス停)台ノ上 歩3分</td>\n      <td>築40年</td>\n      <td>2階建</td>\n      <td>2階</td>\n      <td>1.9万円</td>\n      <td>5000円</td>\n      <td>-</td>\n      <td>-</td>\n      <td>1K</td>\n      <td>25.2m2</td>\n    </tr>\n    <tr>\n      <th>3</th>\n      <td>コーポコジマA棟</td>\n      <td>神奈川県厚木市飯山</td>\n      <td>小田急小田原線/本厚木駅 バス12分 (バス停)台ノ上 歩3分</td>\n      <td>築40年</td>\n      <td>2階建</td>\n      <td>2階</td>\n      <td>1.9万円</td>\n      <td>5000円</td>\n      <td>-</td>\n      <td>-</td>\n      <td>1K</td>\n      <td>25.2m2</td>\n    </tr>\n    <tr>\n      <th>4</th>\n      <td>コーポコジマA棟</td>\n      <td>神奈川県厚木市飯山</td>\n      <td>小田急小田原線/本厚木駅 バス12分 (バス停)台ノ上 歩3分</td>\n      <td>築40年</td>\n      <td>2階建</td>\n      <td>2階</td>\n      <td>1.9万円</td>\n      <td>5000円</td>\n      <td>-</td>\n      <td>-</td>\n      <td>1K</td>\n      <td>25.2m2</td>\n    </tr>\n    <tr>\n      <th>...</th>\n      <td>...</td>\n      <td>...</td>\n      <td>...</td>\n      <td>...</td>\n      <td>...</td>\n      <td>...</td>\n      <td>...</td>\n      <td>...</td>\n      <td>...</td>\n      <td>...</td>\n      <td>...</td>\n      <td>...</td>\n    </tr>\n    <tr>\n      <th>81</th>\n      <td>LIVE　COURT東海大学前</td>\n      <td>神奈川県秦野市鶴巻南１</td>\n      <td>小田急小田原線/東海大学前駅 歩6分</td>\n      <td>築19年</td>\n      <td>3階建</td>\n      <td>3階</td>\n      <td>3.6万円</td>\n      <td>2000円</td>\n      <td>-</td>\n      <td>-</td>\n      <td>ワンルーム</td>\n      <td>18.66m2</td>\n    </tr>\n    <tr>\n      <th>82</th>\n      <td>LIVE　COURT東海大学前</td>\n      <td>神奈川県秦野市鶴巻南１</td>\n      <td>小田急小田原線/東海大学前駅 歩6分</td>\n      <td>築19年</td>\n      <td>3階建</td>\n      <td>2階</td>\n      <td>4万円</td>\n      <td>2000円</td>\n      <td>-</td>\n      <td>-</td>\n      <td>1K</td>\n      <td>20.01m2</td>\n    </tr>\n    <tr>\n      <th>83</th>\n      <td>LIVE　COURT東海大学前</td>\n      <td>神奈川県秦野市鶴巻南１</td>\n      <td>小田急小田原線/東海大学前駅 歩6分</td>\n      <td>築19年</td>\n      <td>3階建</td>\n      <td>2階</td>\n      <td>3.4万円</td>\n      <td>2000円</td>\n      <td>-</td>\n      <td>-</td>\n      <td>ワンルーム</td>\n      <td>18.66m2</td>\n    </tr>\n    <tr>\n      <th>84</th>\n      <td>LIVE　COURT東海大学前</td>\n      <td>神奈川県秦野市鶴巻南１</td>\n      <td>小田急小田原線/東海大学前駅 歩6分</td>\n      <td>築19年</td>\n      <td>3階建</td>\n      <td>2階</td>\n      <td>3.6万円</td>\n      <td>2000円</td>\n      <td>-</td>\n      <td>-</td>\n      <td>ワンルーム</td>\n      <td>18.66m2</td>\n    </tr>\n    <tr>\n      <th>85</th>\n      <td>LIVE　COURT東海大学前</td>\n      <td>神奈川県秦野市鶴巻南１</td>\n      <td>小田急小田原線/東海大学前駅 歩6分</td>\n      <td>築19年</td>\n      <td>3階建</td>\n      <td>2階</td>\n      <td>4.1万円</td>\n      <td>2000円</td>\n      <td>-</td>\n      <td>-</td>\n      <td>ワンルーム</td>\n      <td>20.48m2</td>\n    </tr>\n  </tbody>\n</table>\n<p>159 rows × 12 columns</p>\n</div>"
     },
     "metadata": {},
     "execution_count": 51
    }
   ],
   "source": [
    "pd.concat([df, df_rent])"
   ]
  },
  {
   "cell_type": "code",
   "execution_count": 64,
   "metadata": {},
   "outputs": [
    {
     "output_type": "execute_result",
     "data": {
      "text/plain": [
       "'2446'"
      ]
     },
     "metadata": {},
     "execution_count": 64
    }
   ],
   "source": [
    "# 最大ページ\n",
    "soup.find_all(class_='pagination_set-nav')[0].find_all('li')[-1].text"
   ]
  },
  {
   "source": [
    "# さらに詳細情報"
   ],
   "cell_type": "markdown",
   "metadata": {}
  },
  {
   "cell_type": "code",
   "execution_count": 88,
   "metadata": {},
   "outputs": [
    {
     "output_type": "execute_result",
     "data": {
      "text/plain": [
       "'/chintai/jnc_000065126802/?bc=100232693941'"
      ]
     },
     "metadata": {},
     "execution_count": 88
    }
   ],
   "source": [
    "infos[8].a['href']"
   ]
  },
  {
   "cell_type": "code",
   "execution_count": 81,
   "metadata": {},
   "outputs": [],
   "source": [
    "infos[8].a['href']\n",
    "r_detail = requests.get(f\"https://suumo.jp{infos[8].a['href']}\")"
   ]
  },
  {
   "cell_type": "code",
   "execution_count": 82,
   "metadata": {},
   "outputs": [
    {
     "output_type": "execute_result",
     "data": {
      "text/plain": [
       "<Response [200]>"
      ]
     },
     "metadata": {},
     "execution_count": 82
    }
   ],
   "source": [
    "r_detail"
   ]
  },
  {
   "cell_type": "code",
   "execution_count": 84,
   "metadata": {},
   "outputs": [],
   "source": [
    "soup = BeautifulSoup(r_detail.text, 'lxml')"
   ]
  },
  {
   "cell_type": "code",
   "execution_count": 109,
   "metadata": {},
   "outputs": [
    {
     "output_type": "execute_result",
     "data": {
      "text/plain": [
       "[<td class=\"property_view_table-body\" colspan=\"3\">神奈川県相模原市中央区星が丘２</td>,\n",
       " <td class=\"property_view_table-body\" colspan=\"3\">\n",
       " <div class=\"property_view_table-read\">ＪＲ横浜線/相模原駅 バス12分 (バス停)千代田十字路 歩3分</div>\n",
       " <div class=\"property_view_table-read\">ＪＲ相模線/上溝駅 歩17分</div>\n",
       " </td>,\n",
       " <td class=\"property_view_table-body\">1K</td>,\n",
       " <td class=\"property_view_table-body\">17.12m<sup>2</sup></td>,\n",
       " <td class=\"property_view_table-body\">築30年</td>,\n",
       " <td class=\"property_view_table-body\">4階</td>,\n",
       " <td class=\"property_view_table-body\">北東</td>,\n",
       " <td class=\"property_view_table-body\">マンション</td>]"
      ]
     },
     "metadata": {},
     "execution_count": 109
    }
   ],
   "source": [
    "abstruct_info"
   ]
  },
  {
   "cell_type": "code",
   "execution_count": 114,
   "metadata": {},
   "outputs": [],
   "source": [
    "# 大まかな情報\r\n",
    "abstruct_info = soup.find_all(class_='l-property_view_table')[0].find_all(class_='property_view_table-body')\r\n",
    "address = abstruct_info[0].text\r\n",
    "near_station = abstruct_info[1].contents # これはfor分で回す\r\n",
    "layout = abstruct_info[2].text\r\n",
    "exclusive_area = abstruct_info[3].text\r\n",
    "built_year = abstruct_info[4].text\r\n",
    "built_floors = abstruct_info[5].text\r\n",
    "direction = abstruct_info[6].text\r\n",
    "built_type = abstruct_info[7].text"
   ]
  },
  {
   "cell_type": "code",
   "execution_count": 119,
   "metadata": {},
   "outputs": [],
   "source": [
    "# 部屋の特徴\n",
    "character = soup.find_all(id='bkdt-option')[0].text.split('\\n\\n\\n')[1]"
   ]
  },
  {
   "cell_type": "code",
   "execution_count": 141,
   "metadata": {},
   "outputs": [],
   "source": [
    "# 物件概要\n",
    "details = soup.find_all(class_='table_gaiyou')[0].find_all('td')\n",
    "layout_detail = details[0].text.split('\\r\\n\\t\\t\\t\\t\\t\\t')[1]\n",
    "structure = details[1].text.split('\\r\\n\\t\\t\\t\\t\\t\\t')[1]\n",
    "built_floors_detail =  details[2].text\n",
    "built_date = details[3].text\n",
    "insurance = details[4].text\n",
    "parking_area = details[5].text\n",
    "move_in = details[6].text\n",
    "transaction = details[7].text\n",
    "condition = details[8].text\n",
    "store_code = details[9].text\n",
    "suumo_code = details[10].text\n",
    "units = details[11].text\n",
    "previous_update_date = details[12].text\n",
    "next_update_date = details[13].text\n",
    "notes = details[14].text"
   ]
  },
  {
   "cell_type": "code",
   "execution_count": 154,
   "metadata": {},
   "outputs": [
    {
     "output_type": "execute_result",
     "data": {
      "text/plain": [
       "['ＪＲ横浜線/相模原駅 バス12分 (バス停)千代田十字路 歩3分', 'ＪＲ相模線/上溝駅 歩17分']"
      ]
     },
     "metadata": {},
     "execution_count": 154
    }
   ],
   "source": [
    "[i.text for i in abstruct_info[1].contents if i!='\\n']"
   ]
  },
  {
   "cell_type": "code",
   "execution_count": 157,
   "metadata": {},
   "outputs": [],
   "source": [
    "# まとめる\n",
    "\n",
    "info_lists = []\n",
    "\n",
    "# 大まかな情報\n",
    "abstruct_info = soup.find_all(class_='l-property_view_table')[0].find_all(class_='property_view_table-body')\n",
    "\n",
    "for near_station in [i.text for i in abstruct_info[1].contents if i!='\\n']:\n",
    "    address = abstruct_info[0].text\n",
    "    layout = abstruct_info[2].text\n",
    "    exclusive_area = abstruct_info[3].text\n",
    "    built_year = abstruct_info[4].text\n",
    "    built_floors = abstruct_info[5].text\n",
    "    direction = abstruct_info[6].text\n",
    "    built_type = abstruct_info[7].text\n",
    "    \n",
    "    # 部屋の特徴\n",
    "    character = soup.find_all(id='bkdt-option')[0].text.split('\\n\\n\\n')[1]\n",
    "\n",
    "    # 物件概要\n",
    "    details = soup.find_all(class_='table_gaiyou')[0].find_all('td')\n",
    "    layout_detail = details[0].text.split('\\r\\n\\t\\t\\t\\t\\t\\t')[1]\n",
    "    structure = details[1].text.split('\\r\\n\\t\\t\\t\\t\\t\\t')[1]\n",
    "    built_floors_detail =  details[2].text\n",
    "    built_date = details[3].text\n",
    "    insurance = details[4].text\n",
    "    parking_area = details[5].text\n",
    "    move_in = details[6].text\n",
    "    transaction = details[7].text\n",
    "    condition = details[8].text\n",
    "    store_code = details[9].text\n",
    "    suumo_code = details[10].text\n",
    "    units = details[11].text\n",
    "    previous_update_date = details[12].text\n",
    "    next_update_date = details[13].text\n",
    "    notes = details[14].text\n",
    "\n",
    "    info_list = [address, layout, exclusive_area, built_year, built_floors, direction, built_type, character, layout_detail, structure, built_floors_detail, built_date, insurance, parking_area, move_in, transaction, condition, store_code, suumo_code, units, previous_update_date, next_update_date, notes]\n",
    "\n",
    "    info_lists.append(info_list)"
   ]
  },
  {
   "cell_type": "code",
   "execution_count": 159,
   "metadata": {},
   "outputs": [
    {
     "output_type": "execute_result",
     "data": {
      "text/plain": [
       "[['神奈川県相模原市中央区星が丘２',\n",
       "  '1K',\n",
       "  '17.12m2',\n",
       "  '築30年',\n",
       "  '4階',\n",
       "  '北東',\n",
       "  'マンション',\n",
       "  '角住戸、プロパンガス、IT重説 対応物件',\n",
       "  '洋6',\n",
       "  '鉄筋コン',\n",
       "  '4階/4階建',\n",
       "  '1991年11月',\n",
       "  '要',\n",
       "  '\\r\\n\\t\\t\\t\\t\\t\\t-\\r\\n',\n",
       "  '即',\n",
       "  '仲介',\n",
       "  '\\r\\n\\t\\t\\t\\t\\t\\t-\\r\\n',\n",
       "  'HC1-380124-401-0076',\n",
       "  '100232693941',\n",
       "  '20戸',\n",
       "  '2021/05/30',\n",
       "  '次回更新日は情報更新日より１５日以内',\n",
       "  '\\n\\r\\n\\t\\t\\t\\t\\t\\t人気のフローリング、買い物便利！\\n\\n'],\n",
       " ['神奈川県相模原市中央区星が丘２',\n",
       "  '1K',\n",
       "  '17.12m2',\n",
       "  '築30年',\n",
       "  '4階',\n",
       "  '北東',\n",
       "  'マンション',\n",
       "  '角住戸、プロパンガス、IT重説 対応物件',\n",
       "  '洋6',\n",
       "  '鉄筋コン',\n",
       "  '4階/4階建',\n",
       "  '1991年11月',\n",
       "  '要',\n",
       "  '\\r\\n\\t\\t\\t\\t\\t\\t-\\r\\n',\n",
       "  '即',\n",
       "  '仲介',\n",
       "  '\\r\\n\\t\\t\\t\\t\\t\\t-\\r\\n',\n",
       "  'HC1-380124-401-0076',\n",
       "  '100232693941',\n",
       "  '20戸',\n",
       "  '2021/05/30',\n",
       "  '次回更新日は情報更新日より１５日以内',\n",
       "  '\\n\\r\\n\\t\\t\\t\\t\\t\\t人気のフローリング、買い物便利！\\n\\n']]"
      ]
     },
     "metadata": {},
     "execution_count": 159
    }
   ],
   "source": [
    "info_lists"
   ]
  },
  {
   "cell_type": "code",
   "execution_count": null,
   "metadata": {},
   "outputs": [],
   "source": []
  }
 ]
}